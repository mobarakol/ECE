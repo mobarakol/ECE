{
  "nbformat": 4,
  "nbformat_minor": 0,
  "metadata": {
    "colab": {
      "name": "cifar_binary.ipynb",
      "provenance": [],
      "authorship_tag": "ABX9TyMd41N3bu1xUdVrBxCZU7+R",
      "include_colab_link": true
    },
    "kernelspec": {
      "name": "python3",
      "display_name": "Python 3"
    },
    "language_info": {
      "name": "python"
    },
    "accelerator": "GPU"
  },
  "cells": [
    {
      "cell_type": "markdown",
      "metadata": {
        "id": "view-in-github",
        "colab_type": "text"
      },
      "source": [
        "<a href=\"https://colab.research.google.com/github/mobarakol/ECE/blob/main/cifar_binary.ipynb\" target=\"_parent\"><img src=\"https://colab.research.google.com/assets/colab-badge.svg\" alt=\"Open In Colab\"/></a>"
      ]
    },
    {
      "cell_type": "markdown",
      "metadata": {
        "id": "eQ87J3fmDxjE"
      },
      "source": [
        "# CIFAR binary classification (Airplane or not):\n",
        "Original CIFAR10 [0: airplane, 1: automobile, 2: bird, 3: cat, 4: deer, 5: dog, 6: frog, 7: horse, 8: ship, 9: truck] <br>\n",
        "CIFAR Binary classification [0: airplane, 1: others]"
      ]
    },
    {
      "cell_type": "code",
      "metadata": {
        "id": "Ny77mwOy5rwX"
      },
      "source": [
        "import torch\n",
        "import torch.nn as nn\n",
        "import torch.optim as optim\n",
        "import torch.nn.functional as F\n",
        "import torchvision\n",
        "from torchvision import models\n",
        "import torchvision.transforms as transforms\n",
        "import os\n",
        "import argparse\n",
        "import copy\n",
        "import random\n",
        "import numpy as np\n",
        "device = 'cuda' if torch.cuda.is_available() else 'cpu'\n",
        "def seed_everything(seed=12):\n",
        "    random.seed(seed)\n",
        "    torch.manual_seed(seed)\n",
        "    torch.cuda.manual_seed_all(seed)\n",
        "    np.random.seed(seed)\n",
        "    os.environ['PYTHONHASHSEED'] = str(seed)\n",
        "    torch.backends.cudnn.deterministic = True\n",
        "    torch.backends.cudnn.benchmark = False\n",
        "parser = argparse.ArgumentParser(description='BalancedLSF Training')\n",
        "parser.add_argument('--lr', default=0.1, type=float, help='learning rate')\n",
        "parser.add_argument('--lr_schedule', default=0, type=int, help='lr scheduler')\n",
        "parser.add_argument('--batch_size', default=200, type=int, help='batch size')\n",
        "parser.add_argument('--test_batch_size', default=2048, type=int, help='batch size')\n",
        "parser.add_argument('--num_epoch', default=100, type=int, help='epoch number')\n",
        "parser.add_argument('--num_classes', type=int, default=2, help='number classes')\n",
        "args = parser.parse_args(args=[])\n",
        "\n",
        "def train(model, trainloader, criterion, optimizer):\n",
        "    model.train()\n",
        "    for batch_idx, (inputs, targets) in enumerate(trainloader):\n",
        "        inputs, targets = inputs.to(device), targets.to(device)\n",
        "        targets[targets > 0] = 1 \n",
        "        optimizer.zero_grad()\n",
        "        outputs = model(inputs)\n",
        "        loss = criterion(outputs, targets)\n",
        "        loss.backward()\n",
        "        optimizer.step()\n",
        "\n",
        "def test(model, testloader):\n",
        "    model.eval()\n",
        "    correct = 0\n",
        "    total = 0\n",
        "    with torch.no_grad():\n",
        "        for batch_idx, (inputs, targets) in enumerate(testloader):\n",
        "            inputs, targets = inputs.to(device), targets.to(device)\n",
        "            targets[targets > 0] = 1\n",
        "            outputs = model(inputs)\n",
        "            _, predicted = outputs.max(1)\n",
        "            total += targets.size(0)\n",
        "            correct += predicted.eq(targets).sum().item()\n",
        "    return correct / total"
      ],
      "execution_count": 3,
      "outputs": []
    },
    {
      "cell_type": "markdown",
      "metadata": {
        "id": "LZ9xCxgxhmsn"
      },
      "source": [
        "Training"
      ]
    },
    {
      "cell_type": "code",
      "metadata": {
        "colab": {
          "base_uri": "https://localhost:8080/"
        },
        "id": "wsei6ouF6IXy",
        "outputId": "9972b70f-07ac-4922-e642-60ec1d6f0143"
      },
      "source": [
        "seed_everything()\n",
        "mean_cifar10, std_cifar10 = (0.5071, 0.4866, 0.4409), (0.2009, 0.1984, 0.2023)\n",
        "transform_train = transforms.Compose([transforms.RandomCrop(32, padding=4),\n",
        "            transforms.RandomHorizontalFlip(), transforms.ToTensor(),\n",
        "            transforms.Normalize(mean_cifar10, std_cifar10), ])\n",
        "transform_test = transforms.Compose([transforms.ToTensor(),\n",
        "    transforms.Normalize(mean_cifar10, std_cifar10),])\n",
        "train_dataset = torchvision.datasets.CIFAR10(root='./data', train=True, download=True, transform=transform_train)\n",
        "test_dataset = torchvision.datasets.CIFAR10(root='./data', train=False, download=True, transform=transform_test)\n",
        "\n",
        "train_loader = torch.utils.data.DataLoader(train_dataset, batch_size=args.batch_size, shuffle=True,num_workers=4)\n",
        "test_loader = torch.utils.data.DataLoader(test_dataset, batch_size=2048, shuffle=False, num_workers=4)\n",
        "\n",
        "model = models.resnet18().to(device)\n",
        "model.fc = nn.Linear(model.fc.in_features, args.num_classes)\n",
        "model = model.to(device)\n",
        "optimizer = optim.SGD(model.parameters(), lr=args.lr, momentum=0.9, nesterov=False, weight_decay=0.0001)\n",
        "criterion = nn.CrossEntropyLoss()\n",
        "\n",
        "best_epoch, best_acc = 0.0, 0\n",
        "for epoch in range(args.num_epoch):\n",
        "    train(model, train_loader, criterion, optimizer)\n",
        "    accuracy = test(model, test_loader)\n",
        "    if accuracy > best_acc:\n",
        "        patience = 0\n",
        "        best_acc = accuracy\n",
        "        best_epoch = epoch\n",
        "        best_model = copy.deepcopy(model)\n",
        "        torch.save(best_model.state_dict(), 'best_model_cifar_binary.pth.tar')\n",
        "    print('epoch: {}  acc: {:.4f}  best epoch: {}  best acc: {:.4f}'.format(\n",
        "            epoch, accuracy, best_epoch, best_acc, optimizer.param_groups[0]['lr']))"
      ],
      "execution_count": 4,
      "outputs": [
        {
          "output_type": "stream",
          "name": "stdout",
          "text": [
            "Files already downloaded and verified\n",
            "Files already downloaded and verified\n"
          ]
        },
        {
          "output_type": "stream",
          "name": "stderr",
          "text": [
            "/usr/local/lib/python3.7/dist-packages/torch/utils/data/dataloader.py:481: UserWarning: This DataLoader will create 4 worker processes in total. Our suggested max number of worker in current system is 2, which is smaller than what this DataLoader is going to create. Please be aware that excessive worker creation might get DataLoader running slow or even freeze, lower the worker number to avoid potential slowness/freeze if necessary.\n",
            "  cpuset_checked))\n"
          ]
        },
        {
          "output_type": "stream",
          "name": "stdout",
          "text": [
            "epoch: 0  acc: 0.9067  best epoch: 0  best acc: 0.9067\n",
            "epoch: 1  acc: 0.9089  best epoch: 1  best acc: 0.9089\n",
            "epoch: 2  acc: 0.9118  best epoch: 2  best acc: 0.9118\n",
            "epoch: 3  acc: 0.9148  best epoch: 3  best acc: 0.9148\n",
            "epoch: 4  acc: 0.9157  best epoch: 4  best acc: 0.9157\n",
            "epoch: 5  acc: 0.9164  best epoch: 5  best acc: 0.9164\n",
            "epoch: 6  acc: 0.8995  best epoch: 5  best acc: 0.9164\n",
            "epoch: 7  acc: 0.9343  best epoch: 7  best acc: 0.9343\n",
            "epoch: 8  acc: 0.9320  best epoch: 7  best acc: 0.9343\n",
            "epoch: 9  acc: 0.9376  best epoch: 9  best acc: 0.9376\n",
            "epoch: 10  acc: 0.9407  best epoch: 10  best acc: 0.9407\n",
            "epoch: 11  acc: 0.9461  best epoch: 11  best acc: 0.9461\n",
            "epoch: 12  acc: 0.9440  best epoch: 11  best acc: 0.9461\n",
            "epoch: 13  acc: 0.9479  best epoch: 13  best acc: 0.9479\n",
            "epoch: 14  acc: 0.9513  best epoch: 14  best acc: 0.9513\n",
            "epoch: 15  acc: 0.9484  best epoch: 14  best acc: 0.9513\n",
            "epoch: 16  acc: 0.9536  best epoch: 16  best acc: 0.9536\n",
            "epoch: 17  acc: 0.9537  best epoch: 17  best acc: 0.9537\n",
            "epoch: 18  acc: 0.9534  best epoch: 17  best acc: 0.9537\n",
            "epoch: 19  acc: 0.9549  best epoch: 19  best acc: 0.9549\n",
            "epoch: 20  acc: 0.9543  best epoch: 19  best acc: 0.9549\n",
            "epoch: 21  acc: 0.9495  best epoch: 19  best acc: 0.9549\n",
            "epoch: 22  acc: 0.9468  best epoch: 19  best acc: 0.9549\n",
            "epoch: 23  acc: 0.9509  best epoch: 19  best acc: 0.9549\n",
            "epoch: 24  acc: 0.9505  best epoch: 19  best acc: 0.9549\n",
            "epoch: 25  acc: 0.9556  best epoch: 25  best acc: 0.9556\n",
            "epoch: 26  acc: 0.9571  best epoch: 26  best acc: 0.9571\n",
            "epoch: 27  acc: 0.9526  best epoch: 26  best acc: 0.9571\n",
            "epoch: 28  acc: 0.9592  best epoch: 28  best acc: 0.9592\n",
            "epoch: 29  acc: 0.9573  best epoch: 28  best acc: 0.9592\n",
            "epoch: 30  acc: 0.9520  best epoch: 28  best acc: 0.9592\n",
            "epoch: 31  acc: 0.9576  best epoch: 28  best acc: 0.9592\n",
            "epoch: 32  acc: 0.9547  best epoch: 28  best acc: 0.9592\n",
            "epoch: 33  acc: 0.9577  best epoch: 28  best acc: 0.9592\n",
            "epoch: 34  acc: 0.9597  best epoch: 34  best acc: 0.9597\n",
            "epoch: 35  acc: 0.9500  best epoch: 34  best acc: 0.9597\n",
            "epoch: 36  acc: 0.9590  best epoch: 34  best acc: 0.9597\n",
            "epoch: 37  acc: 0.9585  best epoch: 34  best acc: 0.9597\n",
            "epoch: 38  acc: 0.9578  best epoch: 34  best acc: 0.9597\n",
            "epoch: 39  acc: 0.9578  best epoch: 34  best acc: 0.9597\n",
            "epoch: 40  acc: 0.9576  best epoch: 34  best acc: 0.9597\n",
            "epoch: 41  acc: 0.9608  best epoch: 41  best acc: 0.9608\n",
            "epoch: 42  acc: 0.9613  best epoch: 42  best acc: 0.9613\n",
            "epoch: 43  acc: 0.9609  best epoch: 42  best acc: 0.9613\n",
            "epoch: 44  acc: 0.9609  best epoch: 42  best acc: 0.9613\n",
            "epoch: 45  acc: 0.9555  best epoch: 42  best acc: 0.9613\n",
            "epoch: 46  acc: 0.9535  best epoch: 42  best acc: 0.9613\n",
            "epoch: 47  acc: 0.9636  best epoch: 47  best acc: 0.9636\n",
            "epoch: 48  acc: 0.9593  best epoch: 47  best acc: 0.9636\n",
            "epoch: 49  acc: 0.9600  best epoch: 47  best acc: 0.9636\n",
            "epoch: 50  acc: 0.9635  best epoch: 47  best acc: 0.9636\n",
            "epoch: 51  acc: 0.9578  best epoch: 47  best acc: 0.9636\n",
            "epoch: 52  acc: 0.9572  best epoch: 47  best acc: 0.9636\n",
            "epoch: 53  acc: 0.9610  best epoch: 47  best acc: 0.9636\n",
            "epoch: 54  acc: 0.9600  best epoch: 47  best acc: 0.9636\n",
            "epoch: 55  acc: 0.9617  best epoch: 47  best acc: 0.9636\n",
            "epoch: 56  acc: 0.9583  best epoch: 47  best acc: 0.9636\n",
            "epoch: 57  acc: 0.9572  best epoch: 47  best acc: 0.9636\n",
            "epoch: 58  acc: 0.9609  best epoch: 47  best acc: 0.9636\n",
            "epoch: 59  acc: 0.9557  best epoch: 47  best acc: 0.9636\n",
            "epoch: 60  acc: 0.9612  best epoch: 47  best acc: 0.9636\n",
            "epoch: 61  acc: 0.9591  best epoch: 47  best acc: 0.9636\n",
            "epoch: 62  acc: 0.9616  best epoch: 47  best acc: 0.9636\n",
            "epoch: 63  acc: 0.9589  best epoch: 47  best acc: 0.9636\n",
            "epoch: 64  acc: 0.9600  best epoch: 47  best acc: 0.9636\n",
            "epoch: 65  acc: 0.9620  best epoch: 47  best acc: 0.9636\n",
            "epoch: 66  acc: 0.9604  best epoch: 47  best acc: 0.9636\n",
            "epoch: 67  acc: 0.9608  best epoch: 47  best acc: 0.9636\n",
            "epoch: 68  acc: 0.9569  best epoch: 47  best acc: 0.9636\n",
            "epoch: 69  acc: 0.9606  best epoch: 47  best acc: 0.9636\n",
            "epoch: 70  acc: 0.9613  best epoch: 47  best acc: 0.9636\n",
            "epoch: 71  acc: 0.9597  best epoch: 47  best acc: 0.9636\n",
            "epoch: 72  acc: 0.9633  best epoch: 47  best acc: 0.9636\n",
            "epoch: 73  acc: 0.9635  best epoch: 47  best acc: 0.9636\n",
            "epoch: 74  acc: 0.9627  best epoch: 47  best acc: 0.9636\n",
            "epoch: 75  acc: 0.9646  best epoch: 75  best acc: 0.9646\n",
            "epoch: 76  acc: 0.9638  best epoch: 75  best acc: 0.9646\n",
            "epoch: 77  acc: 0.9534  best epoch: 75  best acc: 0.9646\n",
            "epoch: 78  acc: 0.9596  best epoch: 75  best acc: 0.9646\n",
            "epoch: 79  acc: 0.9631  best epoch: 75  best acc: 0.9646\n",
            "epoch: 80  acc: 0.9634  best epoch: 75  best acc: 0.9646\n",
            "epoch: 81  acc: 0.9622  best epoch: 75  best acc: 0.9646\n",
            "epoch: 82  acc: 0.9626  best epoch: 75  best acc: 0.9646\n",
            "epoch: 83  acc: 0.9633  best epoch: 75  best acc: 0.9646\n",
            "epoch: 84  acc: 0.9584  best epoch: 75  best acc: 0.9646\n",
            "epoch: 85  acc: 0.9639  best epoch: 75  best acc: 0.9646\n",
            "epoch: 86  acc: 0.9625  best epoch: 75  best acc: 0.9646\n",
            "epoch: 87  acc: 0.9585  best epoch: 75  best acc: 0.9646\n",
            "epoch: 88  acc: 0.9610  best epoch: 75  best acc: 0.9646\n",
            "epoch: 89  acc: 0.9631  best epoch: 75  best acc: 0.9646\n",
            "epoch: 90  acc: 0.9614  best epoch: 75  best acc: 0.9646\n",
            "epoch: 91  acc: 0.9599  best epoch: 75  best acc: 0.9646\n",
            "epoch: 92  acc: 0.9620  best epoch: 75  best acc: 0.9646\n",
            "epoch: 93  acc: 0.9509  best epoch: 75  best acc: 0.9646\n",
            "epoch: 94  acc: 0.9602  best epoch: 75  best acc: 0.9646\n",
            "epoch: 95  acc: 0.9639  best epoch: 75  best acc: 0.9646\n",
            "epoch: 96  acc: 0.9649  best epoch: 96  best acc: 0.9649\n",
            "epoch: 97  acc: 0.9669  best epoch: 97  best acc: 0.9669\n",
            "epoch: 98  acc: 0.9620  best epoch: 97  best acc: 0.9669\n",
            "epoch: 99  acc: 0.9612  best epoch: 97  best acc: 0.9669\n"
          ]
        }
      ]
    },
    {
      "cell_type": "markdown",
      "metadata": {
        "id": "9zPUjKZlht1Q"
      },
      "source": [
        "# ECE\n",
        "Github: https://github.com/gpleiss/temperature_scaling <br>\n",
        "Paper: https://arxiv.org/pdf/1706.04599.pdf\n"
      ]
    },
    {
      "cell_type": "code",
      "metadata": {
        "id": "_ckLcGbBPJL9"
      },
      "source": [
        "import matplotlib.pyplot as plt\n",
        "def reliability_diagram(conf_avg, acc_avg, legend=None, leg_idx=0, n_bins=10):\n",
        "    plt.figure(2)\n",
        "    plt.plot([0, 1], [0, 1], linestyle='--')\n",
        "    plt.xlabel('Confidence')\n",
        "    plt.ylabel('Accuracy')\n",
        "    plt.xticks(np.arange(0, 1.1, 1/n_bins))\n",
        "    plt.plot(conf_avg[acc_avg>0],acc_avg[acc_avg>0], marker='.', label = legend)\n",
        "    plt.legend()\n",
        "    plt.savefig('reliability_diagram_{}.png'.format(legend),dpi=300)\n",
        "\n",
        "def ece_eval(preds, targets, n_bins=10,):\n",
        "    bin_boundaries = np.linspace(0, 1, n_bins + 1)\n",
        "    bin_lowers = bin_boundaries[:-1]\n",
        "    bin_uppers = bin_boundaries[1:]\n",
        "    confidences, predictions = np.max(preds,1), np.argmax(preds,1)\n",
        "    confidences, predictions = confidences, predictions\n",
        "    accuracies = (predictions == targets) \n",
        "    Bm, acc, conf = np.zeros(n_bins), np.zeros(n_bins), np.zeros(n_bins)\n",
        "    ece = 0.0\n",
        "    bin_idx = 0\n",
        "    for bin_lower, bin_upper in zip(bin_lowers, bin_uppers):\n",
        "        in_bin = np.logical_and(confidences > bin_lower, confidences <= bin_upper)\n",
        "        bin_size = np.sum(in_bin)\n",
        "        \n",
        "        Bm[bin_idx] = bin_size\n",
        "        if bin_size > 0:  \n",
        "            accuracy_in_bin = np.sum(accuracies[in_bin])\n",
        "            acc[bin_idx] = accuracy_in_bin / Bm[bin_idx]\n",
        "            confidence_in_bin = np.sum(confidences[in_bin])\n",
        "            conf[bin_idx] = confidence_in_bin / Bm[bin_idx]\n",
        "        bin_idx += 1\n",
        "        \n",
        "    ece_all = Bm * np.abs((acc - conf))/ Bm.sum()\n",
        "    ece = ece_all.sum() \n",
        "    return ece, acc, conf, Bm"
      ],
      "execution_count": 56,
      "outputs": []
    },
    {
      "cell_type": "markdown",
      "metadata": {
        "id": "5MBDwZ5WiTkt"
      },
      "source": [
        "ECE for all classes:"
      ]
    },
    {
      "cell_type": "code",
      "metadata": {
        "colab": {
          "base_uri": "https://localhost:8080/",
          "height": 367
        },
        "id": "j1-SsSsg-Fij",
        "outputId": "faecfc8f-61c0-4614-d209-9e2f514bd2f8"
      },
      "source": [
        "def evaluation_all(model, testloader):\n",
        "    model.eval()\n",
        "    logits_list = []\n",
        "    labels_list = []\n",
        "    correct = 0\n",
        "    total = 0\n",
        "    with torch.no_grad():\n",
        "        for batch_idx, (inputs, targets) in enumerate(testloader):\n",
        "            inputs, targets = inputs.to(device), targets.to(device)\n",
        "            targets[targets > 0] = 1\n",
        "            outputs = model(inputs)\n",
        "            _, predicted = outputs.max(1)\n",
        "            total += targets.size(0)\n",
        "            correct += predicted.eq(targets).sum().item()\n",
        "            outputs = F.softmax(outputs, dim=1)\n",
        "            logits_list.append(outputs)\n",
        "            labels_list.append(targets)\n",
        "\n",
        "        logits = torch.cat(logits_list).cpu().numpy()\n",
        "        labels = torch.cat(labels_list).cpu().numpy()\n",
        "    return correct / total, logits, labels\n",
        "print('Testing sample size:',len(test_loader.dataset))\n",
        "accuracy, logits, labels = evaluation_all(model, test_loader)\n",
        "\n",
        "ece, acc, conf, Bm = ece_eval(logits, labels)\n",
        "reliability_diagram(conf, acc, legend='{:.4f}'.format(ece))\n",
        "print(\"ECE for class all:\",round(ece,4))"
      ],
      "execution_count": 63,
      "outputs": [
        {
          "output_type": "stream",
          "name": "stdout",
          "text": [
            "Testing sample size: 10000\n"
          ]
        },
        {
          "output_type": "stream",
          "name": "stderr",
          "text": [
            "/usr/local/lib/python3.7/dist-packages/torch/utils/data/dataloader.py:481: UserWarning: This DataLoader will create 4 worker processes in total. Our suggested max number of worker in current system is 2, which is smaller than what this DataLoader is going to create. Please be aware that excessive worker creation might get DataLoader running slow or even freeze, lower the worker number to avoid potential slowness/freeze if necessary.\n",
            "  cpuset_checked))\n"
          ]
        },
        {
          "output_type": "stream",
          "name": "stdout",
          "text": [
            "ECE for class all: 0.0181\n"
          ]
        },
        {
          "output_type": "display_data",
          "data": {
            "image/png": "[encoded data removed]",
            "text/plain": [
              "<Figure size 432x288 with 1 Axes>"
            ]
          },
          "metadata": {
            "needs_background": "light"
          }
        }
      ]
    },
    {
      "cell_type": "markdown",
      "metadata": {
        "id": "-EQUg9PLiYW8"
      },
      "source": [
        "ECE for class 0 (Airplane):"
      ]
    },
    {
      "cell_type": "code",
      "metadata": {
        "colab": {
          "base_uri": "https://localhost:8080/",
          "height": 296
        },
        "id": "MbaHSrq5TDHu",
        "outputId": "ffc6e0e4-6f1d-402b-c2a4-93145fedeef1"
      },
      "source": [
        "ece, acc, conf, Bm = ece_eval(logits[labels==0], labels[labels==0])\n",
        "reliability_diagram(conf, acc, legend='{:.4f}'.format(ece))\n",
        "print('ECE for class 0:',round(ece,4))"
      ],
      "execution_count": 59,
      "outputs": [
        {
          "output_type": "stream",
          "name": "stdout",
          "text": [
            "ECE for class 0: 0.1525\n"
          ]
        },
        {
          "output_type": "display_data",
          "data": {
            "image/png": "[encoded data removed]",
            "text/plain": [
              "<Figure size 432x288 with 1 Axes>"
            ]
          },
          "metadata": {
            "needs_background": "light"
          }
        }
      ]
    },
    {
      "cell_type": "markdown",
      "metadata": {
        "id": "9iKC_U-Dic7N"
      },
      "source": [
        "ECE for class 1 (others):"
      ]
    },
    {
      "cell_type": "code",
      "metadata": {
        "colab": {
          "base_uri": "https://localhost:8080/",
          "height": 296
        },
        "id": "9HAnC0VDUaSY",
        "outputId": "8ba8469b-509a-4302-c31d-664f34376430"
      },
      "source": [
        "ece, acc, conf, Bm = ece_eval(logits[labels==1], labels[labels==1])\n",
        "reliability_diagram(conf, acc, legend='{:.4f}'.format(ece))\n",
        "print('ECE for class 1:',round(ece,4))"
      ],
      "execution_count": 60,
      "outputs": [
        {
          "output_type": "stream",
          "name": "stdout",
          "text": [
            "ECE for class 1: 0.0031\n"
          ]
        },
        {
          "output_type": "display_data",
          "data": {
            "image/png": "[encoded data removed]",
            "text/plain": [
              "<Figure size 432x288 with 1 Axes>"
            ]
          },
          "metadata": {
            "needs_background": "light"
          }
        }
      ]
    },
    {
      "cell_type": "markdown",
      "metadata": {
        "id": "qn1N2sWqizTh"
      },
      "source": [
        "# ECE \n",
        "Reference: Tensorflow-probability (https://www.tensorflow.org/probability/api_docs/python/tfp/stats/expected_calibration_error) "
      ]
    },
    {
      "cell_type": "markdown",
      "metadata": {
        "id": "2X32QChjj_KA"
      },
      "source": [
        "ECE for class all:"
      ]
    },
    {
      "cell_type": "code",
      "metadata": {
        "colab": {
          "base_uri": "https://localhost:8080/"
        },
        "id": "aY3WEa0ifgmh",
        "outputId": "9974c16f-53eb-4c99-ac23-62e54e012337"
      },
      "source": [
        "import tensorflow_probability as tfp\n",
        "\n",
        "def evaluation_all(model, testloader):\n",
        "    model.eval()\n",
        "    logits_list = []\n",
        "    labels_list = []\n",
        "    correct = 0\n",
        "    total = 0\n",
        "    with torch.no_grad():\n",
        "        for batch_idx, (inputs, targets) in enumerate(testloader):\n",
        "            inputs, targets = inputs.to(device), targets.to(device)\n",
        "            targets[targets > 0] = 1\n",
        "            outputs = model(inputs)\n",
        "            _, predicted = outputs.max(1)\n",
        "            total += targets.size(0)\n",
        "            correct += predicted.eq(targets).sum().item()\n",
        "            logits_list.append(outputs)\n",
        "            labels_list.append(targets)\n",
        "\n",
        "        logits = torch.cat(logits_list).cpu().numpy()\n",
        "        labels = torch.cat(labels_list).cpu().numpy()\n",
        "    return correct / total, logits, labels\n",
        "\n",
        "acc, logits_tf, labels_tf = evaluation_all(model, test_loader)\n",
        "ece = tfp.stats.expected_calibration_error(10, logits=logits_tf, labels_true=labels_tf, labels_predicted=np.argmax(logits_tf,1))\n",
        "print(\"ECE for class all:{:.4f}\".format(np.array(ece)))"
      ],
      "execution_count": 67,
      "outputs": [
        {
          "output_type": "stream",
          "name": "stderr",
          "text": [
            "/usr/local/lib/python3.7/dist-packages/torch/utils/data/dataloader.py:481: UserWarning: This DataLoader will create 4 worker processes in total. Our suggested max number of worker in current system is 2, which is smaller than what this DataLoader is going to create. Please be aware that excessive worker creation might get DataLoader running slow or even freeze, lower the worker number to avoid potential slowness/freeze if necessary.\n",
            "  cpuset_checked))\n"
          ]
        },
        {
          "output_type": "stream",
          "name": "stdout",
          "text": [
            "ECE for class all:0.0181\n"
          ]
        }
      ]
    },
    {
      "cell_type": "markdown",
      "metadata": {
        "id": "HqY7NUxOkB4V"
      },
      "source": [
        "ECE for class 0:"
      ]
    },
    {
      "cell_type": "code",
      "metadata": {
        "colab": {
          "base_uri": "https://localhost:8080/"
        },
        "id": "dnP6DjVBjW2C",
        "outputId": "d3bf3c47-f57b-4ee7-b962-23b0924409d3"
      },
      "source": [
        "ece = tfp.stats.expected_calibration_error(10, logits=logits_tf[labels==0], labels_true=labels_tf[labels==0], labels_predicted=np.argmax(logits_tf[labels==0],1))\n",
        "print(\"ECE for class 0: {:.4f}\".format(np.array(ece)))"
      ],
      "execution_count": 70,
      "outputs": [
        {
          "output_type": "stream",
          "name": "stdout",
          "text": [
            "ECE for class 0: 0.1525\n"
          ]
        }
      ]
    },
    {
      "cell_type": "markdown",
      "metadata": {
        "id": "1UDhiG52kD9k"
      },
      "source": [
        "ECE for class 1:"
      ]
    },
    {
      "cell_type": "code",
      "metadata": {
        "colab": {
          "base_uri": "https://localhost:8080/"
        },
        "id": "fuFKUtvMj2qn",
        "outputId": "3352815d-68f8-410a-dc6a-7a645a5b7de7"
      },
      "source": [
        "ece = tfp.stats.expected_calibration_error(10, logits=logits_tf[labels==1], labels_true=labels_tf[labels==1], labels_predicted=np.argmax(logits_tf[labels==1],1))\n",
        "print(\"ECE for class 1: {:.4f}\".format(np.array(ece)))"
      ],
      "execution_count": 71,
      "outputs": [
        {
          "output_type": "stream",
          "name": "stdout",
          "text": [
            "ECE for class 1: 0.0032\n"
          ]
        }
      ]
    },
    {
      "cell_type": "code",
      "metadata": {
        "id": "NBLja_oWkKoL"
      },
      "source": [
        ""
      ],
      "execution_count": null,
      "outputs": []
    }
  ]
}